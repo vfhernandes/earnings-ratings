{
 "cells": [
  {
   "cell_type": "code",
   "execution_count": 99,
   "metadata": {},
   "outputs": [
    {
     "name": "stdout",
     "output_type": "stream",
     "text": [
      "No 'Accept' button found or unable to click. google\n",
      "Table content:\n",
      "\n",
      "\n"
     ]
    }
   ],
   "source": [
    "from selenium import webdriver\n",
    "from selenium.webdriver.common.by import By\n",
    "from selenium.webdriver.support.ui import WebDriverWait\n",
    "from selenium.webdriver.common.keys import Keys\n",
    "from selenium.webdriver.support import expected_conditions as EC\n",
    "from selenium.webdriver.common.action_chains import ActionChains\n",
    "from selenium.common.exceptions import NoSuchElementException\n",
    "from selenium.webdriver.chrome.options import Options\n",
    "from selenium.common.exceptions import TimeoutException\n",
    "\n",
    "\n",
    "import datetime\n",
    "\n",
    "\n",
    "options = Options()\n",
    "options.add_argument(\"--start-maximized\")  # Maximize the browser window\n",
    "options.add_argument(\"--disable-extensions\")\n",
    "options.add_argument(\"--disable-popup-blocking\")\n",
    "options.add_argument(\"--disable-infobars\")\n",
    "options.add_argument(\"--no-sandbox\")\n",
    "options.add_argument(\"--disable-dev-shm-usage\")\n",
    "options.add_argument(\"--disable-gpu\")\n",
    "options.add_argument(\"--ignore-certificate-errors\")\n",
    "\n",
    "driver = webdriver.Chrome()\n",
    "#driver = webdriver.Safari()\n",
    "\n",
    "\n",
    "site_ec_dict = {'google': EC.element_to_be_clickable((By.XPATH, \"//div[@class='QS5gu sy4vM']\")),\n",
    "                'nasdaq': EC.element_to_be_clickable((By.ID, \"onetrust-accept-btn-handler\")),\n",
    "                'investing.com':EC.element_to_be_clickable((By.ID, \"onetrust-accept-btn-handler\"))}\n",
    "\n",
    "nav_nasdaq_ec_dict = {'select_date': EC.element_to_be_clickable((By.ID, \"date-picker__toggle\")),\n",
    "                            #\"//button[@class='date-picker__toggle' and @aria-label='click show datepicker popup']\")),      \n",
    "                      'select_searchbox':  EC.visibility_of_element_located((By.CLASS_NAME, \"date-picker__input\")),\n",
    "                      'apply_date_button': EC.element_to_be_clickable((By.XPATH,\n",
    "                            \"//button[@class='date-picker__apply']\"))}\n",
    "\n",
    "nav_investingcom_ec_dict = {'select_calendar': EC.element_to_be_clickable((By.ID, \"datePickerToggleBtn\"))}\n",
    "\n",
    "def accept_cookies(site = 'google'):    \n",
    "    try:\n",
    "        accept = WebDriverWait(driver, 1).until(site_ec_dict[site])\n",
    "        accept.click()\n",
    "    except:\n",
    "        print(\"No 'Accept' button found or unable to click.\", site)\n",
    "\n",
    "\n",
    "def google(query):\n",
    "    # Open the website\n",
    "    driver.get(\"https://google.com\")\n",
    "    accept_cookies('google')\n",
    "    search_box = driver.find_element(By.NAME, \"q\")\n",
    "\n",
    "     # Enter your search query\n",
    "    search_query = query\n",
    "    search_box.send_keys(search_query)\n",
    "\n",
    "    # Simulate hitting Enter\n",
    "    search_box.send_keys(Keys.RETURN)\n",
    "\n",
    "def click_google_site(site):\n",
    "    driver.find_element(By.XPATH, f\"//a[contains(@href, '{site}')]\").click()\n",
    "\n",
    "def select_date(year, month, day, site = 'nasdaq'):\n",
    "    if site == 'nasdaq':\n",
    "        date = datetime.date(year, month, day).strftime('%m/%d/%Y')\n",
    "        WebDriverWait(driver, 1).until(nav_nasdaq_ec_dict['select_date']).click()\n",
    "        driver.execute_script(f\"document.querySelector('.date-picker__input').value = '{date}';\")\n",
    "        WebDriverWait(driver, 1).until(nav_nasdaq_ec_dict['e_button']).click()\n",
    "    elif site == 'investing.com':\n",
    "        date = datetime.date(year, month, day).strftime('%m/%d/%Y')\n",
    "        WebDriverWait(driver, 1).until(nav_investingcom_ec_dict['select_calendar']).click()\n",
    "        input_element = driver.find_element(By.CSS_SELECTOR, \"input.newInput#startDate\")\n",
    "        input_element.clear()  # Clear any existing value\n",
    "        input_element.send_keys(date)  \n",
    "        input_element = driver.find_element(By.CSS_SELECTOR, \"input.newInput#endDate\")\n",
    "        input_element.clear()  # Clear any existing value\n",
    "        input_element.send_keys(date)  \n",
    "        driver.find_element(By.ID, 'applyBtn').click()\n",
    "        tbody = driver.find_element(By.CSS_SELECTOR, \"tbody\")\n",
    "\n",
    "        # Get the inner HTML of the tbody\n",
    "        table_content = tbody.get_attribute(\"innerHTML\")\n",
    "        print(\"Table content:\")\n",
    "        print(table_content)\n",
    "\n",
    "\n",
    "def google_site(query, site):\n",
    "    google(query)\n",
    "    accept_cookies('google')\n",
    "    click_google_site(site)\n",
    "\n",
    "\n",
    "##########################################\n",
    "    \n",
    "\n",
    "google_site('earnings calendar', 'investing.com')\n",
    "accept_cookies('investing.com')\n",
    "year, month, day = 2024, 3, 5\n",
    "select_date(year, month, day, site = 'investing.com')"
   ]
  },
  {
   "cell_type": "code",
   "execution_count": 100,
   "metadata": {},
   "outputs": [
    {
     "ename": "NameError",
     "evalue": "name 'table_content' is not defined",
     "output_type": "error",
     "traceback": [
      "\u001b[0;31m---------------------------------------------------------------------------\u001b[0m",
      "\u001b[0;31mNameError\u001b[0m                                 Traceback (most recent call last)",
      "Cell \u001b[0;32mIn [100], line 1\u001b[0m\n\u001b[0;32m----> 1\u001b[0m table_content\n",
      "\u001b[0;31mNameError\u001b[0m: name 'table_content' is not defined"
     ]
    }
   ],
   "source": [
    "table_content"
   ]
  },
  {
   "cell_type": "code",
   "execution_count": null,
   "metadata": {},
   "outputs": [],
   "source": []
  }
 ],
 "metadata": {
  "kernelspec": {
   "display_name": "fin",
   "language": "python",
   "name": "python3"
  },
  "language_info": {
   "codemirror_mode": {
    "name": "ipython",
    "version": 3
   },
   "file_extension": ".py",
   "mimetype": "text/x-python",
   "name": "python",
   "nbconvert_exporter": "python",
   "pygments_lexer": "ipython3",
   "version": "3.8.13"
  }
 },
 "nbformat": 4,
 "nbformat_minor": 2
}

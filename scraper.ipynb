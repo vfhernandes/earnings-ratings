{
 "cells": [
  {
   "cell_type": "code",
   "execution_count": 72,
   "metadata": {},
   "outputs": [],
   "source": [
    "from selenium import webdriver\n",
    "from selenium.webdriver.common.by import By\n",
    "from selenium.webdriver.support.ui import WebDriverWait\n",
    "from selenium.webdriver.common.keys import Keys\n",
    "from selenium.webdriver.support import expected_conditions as EC\n",
    "from selenium.webdriver.common.action_chains import ActionChains\n",
    "from selenium.common.exceptions import NoSuchElementException\n",
    "\n",
    "import datetime\n",
    "\n",
    "\n",
    "site_ec_dict = {'google': EC.element_to_be_clickable((By.XPATH, \"//div[@class='QS5gu sy4vM']\")),\n",
    "                'nasdaq': EC.element_to_be_clickable((By.ID, \"onetrust-accept-btn-handler\"))}\n",
    "\n",
    "nav_nasdaq_ec_dict = {'select_date': EC.element_to_be_clickable((By.XPATH,\n",
    "                            \"//button[@class='date-picker__toggle' and @aria-label='click show datepicker popup']\")),      \n",
    "                      'select_searchbox':  EC.visibility_of_element_located((By.CLASS_NAME, \"date-picker__input\")),\n",
    "                      'apply_data_button': EC.element_to_be_clickable((By.XPATH,\n",
    "                            \"//button[@class='date-picker__apply']\"))}\n",
    "\n",
    "\n",
    "#EC.element_to_be_clickable((By.ID, \"date-picker__toggle\"))}\n",
    "\n",
    "def accept_cookies(site = 'google'):    \n",
    "    try:\n",
    "        accept = WebDriverWait(driver, 1).until(site_ec_dict[site])\n",
    "        accept.click()\n",
    "    except:\n",
    "        print(\"No 'Accept' button found or unable to click.\")\n",
    "\n",
    "\n",
    "def google(query):\n",
    "    # Open the website\n",
    "    driver.get(\"https://google.com\")\n",
    "    accept_cookies('google')\n",
    "    search_box = driver.find_element(By.NAME, \"q\")\n",
    "\n",
    "     # Enter your search query\n",
    "    search_query = query\n",
    "    search_box.send_keys(search_query)\n",
    "\n",
    "    # Simulate hitting Enter\n",
    "    search_box.send_keys(Keys.RETURN)\n",
    "\n",
    "\n",
    "\n",
    "def click_site(site):\n",
    "    driver.find_element(By.XPATH, f\"//a[contains(@href, '{site}')]\").click()\n",
    "\n",
    "def select_date(year, month, day, site = 'nasdaq'):\n",
    "    if site == 'nasdaq':\n",
    "        date = datetime.date(year, month, day).strftime('%m/%d/%Y')\n",
    "        WebDriverWait(driver, 1).until(nav_nasdaq_ec_dict['select_date']).click()\n",
    "        driver.execute_script(f\"document.querySelector('.date-picker__input').value = '{date}';\")\n",
    "        WebDriverWait(driver, 10).until(nav_nasdaq_ec_dict['apply_data_button']).click()\n",
    "\n",
    "\n"
   ]
  },
  {
   "cell_type": "code",
   "execution_count": 19,
   "metadata": {},
   "outputs": [],
   "source": [
    "driver = webdriver.Chrome()\n",
    "\n",
    "google('nasdaq earnings calendar')\n",
    "click_site('nasdaq.com')\n",
    "\n"
   ]
  },
  {
   "cell_type": "code",
   "execution_count": 20,
   "metadata": {},
   "outputs": [],
   "source": [
    "accept_cookies('nasdaq')"
   ]
  },
  {
   "cell_type": "code",
   "execution_count": 74,
   "metadata": {},
   "outputs": [],
   "source": [
    "year, month, day = 2024, 3, 5\n",
    "select_date(year, month, day, site = 'nasdaq')"
   ]
  },
  {
   "cell_type": "code",
   "execution_count": 55,
   "metadata": {},
   "outputs": [],
   "source": []
  },
  {
   "cell_type": "code",
   "execution_count": null,
   "metadata": {},
   "outputs": [],
   "source": []
  }
 ],
 "metadata": {
  "kernelspec": {
   "display_name": "fin",
   "language": "python",
   "name": "python3"
  },
  "language_info": {
   "codemirror_mode": {
    "name": "ipython",
    "version": 3
   },
   "file_extension": ".py",
   "mimetype": "text/x-python",
   "name": "python",
   "nbconvert_exporter": "python",
   "pygments_lexer": "ipython3",
   "version": "3.8.13"
  }
 },
 "nbformat": 4,
 "nbformat_minor": 2
}

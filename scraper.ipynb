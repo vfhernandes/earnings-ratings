{
 "cells": [
  {
   "cell_type": "code",
   "execution_count": 2,
   "metadata": {},
   "outputs": [],
   "source": [
    "from selenium import webdriver\n",
    "from selenium.webdriver.common.by import By\n",
    "from selenium.webdriver.support.ui import WebDriverWait\n",
    "from selenium.webdriver.common.keys import Keys\n",
    "from selenium.webdriver.support import expected_conditions as EC\n",
    "from selenium.webdriver.common.action_chains import ActionChains\n",
    "from selenium.common.exceptions import NoSuchElementException\n",
    "\n",
    "\n",
    "site_ec_dict = {'google': EC.element_to_be_clickable((By.XPATH, \"//div[@class='QS5gu sy4vM']\")),\n",
    "                'nasdaq': EC.element_to_be_clickable((By.ID, \"onetrust-accept-btn-handler\"))}\n",
    "\n",
    "def accept_cookies(site = 'google'):    \n",
    "    try:\n",
    "        accept = WebDriverWait(driver, 10).until(site_ec_dict[site])\n",
    "        accept.click()\n",
    "    except:\n",
    "        print(\"No 'Accept' button found or unable to click.\")\n",
    "\n",
    "\n",
    "def google(query):\n",
    "    # Open the website\n",
    "    driver.get(\"https://google.com\")\n",
    "    accept_cookies('google')\n",
    "    search_box = driver.find_element(By.NAME, \"q\")\n",
    "\n",
    "     # Enter your search query\n",
    "    search_query = query\n",
    "    search_box.send_keys(search_query)\n",
    "\n",
    "    # Simulate hitting Enter\n",
    "    search_box.send_keys(Keys.RETURN)\n",
    "\n",
    "\n",
    "\n",
    "def click_site(site):\n",
    "    driver.find_element(By.XPATH, f\"//a[contains(@href, '{site}')]\").click()\n",
    "\n",
    "\n",
    "\n",
    "\n",
    "\n"
   ]
  },
  {
   "cell_type": "code",
   "execution_count": 3,
   "metadata": {},
   "outputs": [],
   "source": [
    "driver = webdriver.Chrome()\n",
    "\n",
    "google('nasdaq earnings calendar')\n",
    "click_site('nasdaq.com')\n",
    "accept_cookies('nasdaq')\n",
    "\n"
   ]
  },
  {
   "cell_type": "code",
   "execution_count": null,
   "metadata": {},
   "outputs": [],
   "source": []
  }
 ],
 "metadata": {
  "kernelspec": {
   "display_name": "fin",
   "language": "python",
   "name": "python3"
  },
  "language_info": {
   "codemirror_mode": {
    "name": "ipython",
    "version": 3
   },
   "file_extension": ".py",
   "mimetype": "text/x-python",
   "name": "python",
   "nbconvert_exporter": "python",
   "pygments_lexer": "ipython3",
   "version": "3.8.13"
  }
 },
 "nbformat": 4,
 "nbformat_minor": 2
}
